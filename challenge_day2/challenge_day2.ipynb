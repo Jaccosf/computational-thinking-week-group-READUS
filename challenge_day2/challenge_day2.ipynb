{
 "cells": [
  {
   "attachments": {},
   "cell_type": "markdown",
   "metadata": {},
   "source": [
    "# Observation Challenge\n",
    "\n",
    "In this challenge, you have to create an algorithm based on several algorithm parts.\n",
    "\n",
    "## Stations\n",
    "Across the JK building, we have placed several stations. At each station, you can find sample inputs and their expected outputs for one of the algorithm parts.\n",
    "You must decipher the algorithm behind each station yourself.\n",
    "The locations of all the stations are listed where Lukas and Roland are sitting.\n",
    "\n",
    "# Your task\n",
    "- Create files in this directory named station1.py, station2.py, etc.\n",
    "- Each member of the team must commit (including any changes) at least one of these files.\n",
    "- Each of these files contains a function named solution_station_X(), where X is the station number, same as the file name\n",
    "- Fill out the cell below and generate the correct overall output\n",
    "- You are allowed to use all built-in Python modules, as well as numpy and pandas in your solutions."
   ]
  },
  {
   "cell_type": "code",
   "execution_count": 1,
   "metadata": {},
   "outputs": [
    {
     "ename": "TypeError",
     "evalue": "'str' object cannot be interpreted as an integer",
     "output_type": "error",
     "traceback": [
      "\u001b[1;31m---------------------------------------------------------------------------\u001b[0m",
      "\u001b[1;31mTypeError\u001b[0m                                 Traceback (most recent call last)",
      "Cell \u001b[1;32mIn[1], line 34\u001b[0m\n\u001b[0;32m     31\u001b[0m     \u001b[38;5;28;01massert\u001b[39;00m \u001b[38;5;28misinstance\u001b[39m(output7, \u001b[38;5;28mfloat\u001b[39m)\n\u001b[0;32m     32\u001b[0m     \u001b[38;5;28;01mreturn\u001b[39;00m output1 \u001b[38;5;241m*\u001b[39m \u001b[38;5;28mint\u001b[39m\u001b[38;5;241m.\u001b[39mfrom_bytes(output2[\u001b[38;5;241m0\u001b[39m]\u001b[38;5;241m.\u001b[39mencode(\u001b[38;5;124m\"\u001b[39m\u001b[38;5;124municode_escape\u001b[39m\u001b[38;5;124m\"\u001b[39m), byteorder\u001b[38;5;241m=\u001b[39m\u001b[38;5;124m'\u001b[39m\u001b[38;5;124mbig\u001b[39m\u001b[38;5;124m'\u001b[39m) \u001b[38;5;241m*\u001b[39m (\u001b[38;5;241m3\u001b[39m \u001b[38;5;28;01mif\u001b[39;00m output3 \u001b[38;5;28;01melse\u001b[39;00m \u001b[38;5;241m2\u001b[39m) \u001b[38;5;241m*\u001b[39m (\u001b[38;5;241m5\u001b[39m \u001b[38;5;28;01mif\u001b[39;00m output4 \u001b[38;5;28;01melse\u001b[39;00m \u001b[38;5;241m4\u001b[39m) \u001b[38;5;241m*\u001b[39m output5 \u001b[38;5;241m*\u001b[39m output6 \u001b[38;5;241m*\u001b[39m output7\n\u001b[1;32m---> 34\u001b[0m FINAL_OUTPUT1 \u001b[38;5;241m=\u001b[39m \u001b[43mcombined_algorithm\u001b[49m\u001b[43m(\u001b[49m\u001b[43mobservation1\u001b[49m\u001b[43m)\u001b[49m\n\u001b[0;32m     35\u001b[0m FINAL_OUTPUT2 \u001b[38;5;241m=\u001b[39m combined_algorithm(observation2)\n\u001b[0;32m     36\u001b[0m FINAL_OUTPUT3 \u001b[38;5;241m=\u001b[39m combined_algorithm(observation3)\n",
      "Cell \u001b[1;32mIn[1], line 18\u001b[0m, in \u001b[0;36mcombined_algorithm\u001b[1;34m(observations)\u001b[0m\n\u001b[0;32m     17\u001b[0m \u001b[38;5;28;01mdef\u001b[39;00m \u001b[38;5;21mcombined_algorithm\u001b[39m(observations: \u001b[38;5;28mtuple\u001b[39m) \u001b[38;5;241m-\u001b[39m\u001b[38;5;241m>\u001b[39m \u001b[38;5;28mint\u001b[39m:\n\u001b[1;32m---> 18\u001b[0m     output1 \u001b[38;5;241m=\u001b[39m \u001b[43msolution_station_1\u001b[49m\u001b[43m(\u001b[49m\u001b[43mobservations\u001b[49m\u001b[43m[\u001b[49m\u001b[38;5;241;43m1\u001b[39;49m\u001b[43m]\u001b[49m\u001b[43m)\u001b[49m\n\u001b[0;32m     19\u001b[0m     output2 \u001b[38;5;241m=\u001b[39m solution_station_2(observations[\u001b[38;5;241m2\u001b[39m])\n\u001b[0;32m     20\u001b[0m     output3 \u001b[38;5;241m=\u001b[39m solution_station_3(observations[\u001b[38;5;241m3\u001b[39m])\n",
      "File \u001b[1;32mc:\\Users\\Dodi\\OneDrive - UvA\\sem_3\\RoboCamp\\computational-thinking-week-group-READUS\\challenge_day2\\station1.py:4\u001b[0m, in \u001b[0;36msolution_station_1\u001b[1;34m(num)\u001b[0m\n\u001b[0;32m      1\u001b[0m \u001b[38;5;28;01mdef\u001b[39;00m \u001b[38;5;21msolution_station_1\u001b[39m(num):\n\u001b[0;32m      2\u001b[0m     \u001b[38;5;66;03m# calculate fibonacci sequence\u001b[39;00m\n\u001b[0;32m      3\u001b[0m     a, b \u001b[38;5;241m=\u001b[39m \u001b[38;5;241m0\u001b[39m, \u001b[38;5;241m1\u001b[39m\n\u001b[1;32m----> 4\u001b[0m     \u001b[38;5;28;01mfor\u001b[39;00m i \u001b[38;5;129;01min\u001b[39;00m \u001b[38;5;28;43mrange\u001b[39;49m\u001b[43m(\u001b[49m\u001b[43mnum\u001b[49m\u001b[43m)\u001b[49m:\n\u001b[0;32m      5\u001b[0m         a, b \u001b[38;5;241m=\u001b[39m b, a \u001b[38;5;241m+\u001b[39m b\n\u001b[0;32m      6\u001b[0m     \u001b[38;5;28;01mreturn\u001b[39;00m a\n",
      "\u001b[1;31mTypeError\u001b[0m: 'str' object cannot be interpreted as an integer"
     ]
    }
   ],
   "source": [
    "from tests import tests\n",
    "from station1 import solution_station_1\n",
    "from station2 import solution_station_2\n",
    "from station3 import solution_station_3\n",
    "from station4 import solution_station_4\n",
    "from station5 import solution_station_5\n",
    "from station6 import solution_station_6\n",
    "from station7 import solution_station_7\n",
    "\n",
    "# List three observations of all inputs (not sample inputs) observed at the same time\n",
    "# Format: (time: str, station1_input: int, station2_input: str, station3_input: int, station4_input: int, station5_input: str, station6_input: int, station7_input: str)\n",
    "# Example: ('12:30:00', 1, '1990-01-01', 2, 3, \"John\", 4, \"e=mc^2\")\n",
    "observation1 = ('14:05:12', '45', '2024-02-16', '65396', '6539', 'Alexia', '65', 'd*a*c+e' )\n",
    "observation2 = ('14:14:10', '1', '2024-08-12', '65138', '6513', 'Alexia', '65', 'b*d*c+e')\n",
    "observation3 = ('14:20:25', '27', '2024-12-19', '41658', '4165', 'Mana', '41', 'b*a*d')\n",
    "\n",
    "def combined_algorithm(observations: tuple) -> int:\n",
    "    output1 = solution_station_1(observations[1])\n",
    "    output2 = solution_station_2(observations[2])\n",
    "    output3 = solution_station_3(observations[3])\n",
    "    output4 = solution_station_4(observations[4])\n",
    "    output5 = solution_station_5(observations[5])\n",
    "    output6 = solution_station_6(observations[6])\n",
    "    output7 = solution_station_7(observations[7])\n",
    "    assert isinstance(output1, int)\n",
    "    assert isinstance(output2, str)\n",
    "    assert isinstance(output3, bool)\n",
    "    assert isinstance(output4, bool)\n",
    "    assert isinstance(output5, int)\n",
    "    assert isinstance(output6, float)\n",
    "    assert isinstance(output7, float)\n",
    "    return output1 * int.from_bytes(output2[0].encode(\"unicode_escape\"), byteorder='big') * (3 if output3 else 2) * (5 if output4 else 4) * output5 * output6 * output7\n",
    "\n",
    "FINAL_OUTPUT1 = combined_algorithm(observation1)\n",
    "FINAL_OUTPUT2 = combined_algorithm(observation2)\n",
    "FINAL_OUTPUT3 = combined_algorithm(observation3)\n",
    "tests.Test_Exercise(combined_algorithm);"
   ]
  }
 ],
 "metadata": {
  "kernelspec": {
   "display_name": "Python 3.10.5 64-bit",
   "language": "python",
   "name": "python3"
  },
  "language_info": {
   "codemirror_mode": {
    "name": "ipython",
    "version": 3
   },
   "file_extension": ".py",
   "mimetype": "text/x-python",
   "name": "python",
   "nbconvert_exporter": "python",
   "pygments_lexer": "ipython3",
   "version": "3.12.5"
  },
  "orig_nbformat": 4,
  "vscode": {
   "interpreter": {
    "hash": "2f9d6cf1e3d8195079a65c851de355134a77367bcd714b1a5d498c42d3c07114"
   }
  }
 },
 "nbformat": 4,
 "nbformat_minor": 2
}
